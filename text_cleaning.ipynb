{
 "cells": [
  {
   "cell_type": "code",
   "execution_count": 2,
   "metadata": {},
   "outputs": [],
   "source": [
    "# our goal with this script was, after concatenating the files containing multiple json objects \n",
    "#    (for each folder, run this batch script: `copy /b *. <stock name>`), to parse the array of \n",
    "#    strings under 'text' to be one long string so we could convert it to a csv without issue\n",
    "\n",
    "import json, csv\n",
    "\n",
    "stocks = [('JPM', 'JPM_parsed'), ('MMM', 'MMM_parsed'), ('BAC', 'BAC_parsed')]\n",
    "\n",
    "for (name, name_parsed) in stocks:\n",
    "    # store contents of the corresponding file in data (each line is a json object)\n",
    "    data = []\n",
    "    f = open(name)\n",
    "    for line in f:\n",
    "        data.append(json.loads(line))\n",
    "    # now convert the text attribute to a singular string and add the symbol field\n",
    "    for line in data:\n",
    "        text = line['text']\n",
    "        line['text'] = ' '.join(map(str, text)) \n",
    "        line['symbol'] = name\n",
    "    f.close()\n",
    "    # write results to the corresponding file\n",
    "    f_parsed = open(name_parsed, \"w\")\n",
    "    for line in data:\n",
    "        newline = json.dumps(line)\n",
    "        f_parsed.write(newline)\n",
    "    f_parsed.close()"
   ]
  },
  {
   "cell_type": "code",
   "execution_count": null,
   "metadata": {},
   "outputs": [],
   "source": []
  }
 ],
 "metadata": {
  "kernelspec": {
   "display_name": "Python 3",
   "language": "python",
   "name": "python3"
  },
  "language_info": {
   "codemirror_mode": {
    "name": "ipython",
    "version": 3
   },
   "file_extension": ".py",
   "mimetype": "text/x-python",
   "name": "python",
   "nbconvert_exporter": "python",
   "pygments_lexer": "ipython3",
   "version": "3.7.6"
  }
 },
 "nbformat": 4,
 "nbformat_minor": 4
}
